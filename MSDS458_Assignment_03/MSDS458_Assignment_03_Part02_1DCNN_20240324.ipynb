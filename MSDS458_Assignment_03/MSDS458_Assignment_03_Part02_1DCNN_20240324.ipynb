{
  "cells": [
    {
      "cell_type": "markdown",
      "metadata": {
        "id": "xHJ-2a8LRro5"
      },
      "source": [
        "<img src=\"https://github.com/djp840/MSDS_458_Public/blob/main/images2/NorthwesternHeader.png?raw=1\" />"
      ]
    },
    {
      "cell_type": "markdown",
      "metadata": {
        "id": "k6cApW345ukg"
      },
      "source": [
        "## MSDS458 Research Assignment 3 - Part 02 1D CNN"
      ]
    },
    {
      "cell_type": "markdown",
      "metadata": {
        "id": "Hblbilyx5ukg"
      },
      "source": [
        "### Analyze AG_NEWS_SUBSET Data <br>\n",
        "\n",
        "AG is a collection of more than 1 million news articles. News articles have been gathered from more than 2000 news sources by ComeToMyHead in more than 1 year of activity. ComeToMyHead is an academic news search engine which has been running since July, 2004. The dataset is provided by the academic comunity for research purposes in data mining (clustering, classification, etc), information retrieval (ranking, search, etc), xml, data compression, data streaming, and any other non-commercial activity.<br>\n",
        "\n",
        "For more information, please refer to the link http://www.di.unipi.it/~gulli/AG_corpus_of_news_articles.html<br>\n",
        "\n",
        "\n",
        "The AG's news topic classification dataset is constructed by choosing 4 largest classes (**World**, **Sports**, **Business**, and **Sci/Tech**) from the original corpus. Each class contains 30,000 training samples and 1,900 testing samples. The total number of training samples is 120,000 and testing 7,600.<br>\n",
        "\n",
        "Homepage: https://arxiv.org/abs/1509.01626<br>\n",
        "\n",
        "Source code: tfds.text.AGNewsSubset\n",
        "\n",
        "Versions:\n",
        "\n",
        "1.0.0 (default): No release notes.\n",
        "Download size: 11.24 MiB\n",
        "\n",
        "Dataset size: 35.79 MiB"
      ]
    },
    {
      "cell_type": "markdown",
      "metadata": {
        "id": "95DGbFzR5uki"
      },
      "source": [
        "### References\n",
        "1. Deep Learning with Python, Francois Chollet (https://learning.oreilly.com/library/view/deep-learning-with/9781617296864/)\n",
        " * Chapter 10: Deep learning for time series\n",
        " * Chapter 11: Deep learning for text\n",
        "2. Deep Learning A Visual Approach, Andrew Glassner (https://learning.oreilly.com/library/view/deep-learning/9781098129019/)\n",
        " * Chapter 19: Recurrent Neural Networks\n",
        " * Chapter 20: Attention and Transformers"
      ]
    },
    {
      "cell_type": "markdown",
      "metadata": {
        "id": "vT8kwmgNRro7"
      },
      "source": [
        "### Processing words as a sequence: The sequence model approach\n",
        "\n",
        "To implement a sequence model, you’d start by representing your input samples as sequences of integer indices (one integer standing for one word). Then, you’d map each integer to a vector to obtain vector sequences. Finally, you’d feed these sequences of vectors into a stack of layers that could cross-correlate features from adjacent vectors, such as a 1D convnet, a RNN, or a Transformer."
      ]
    },
    {
      "cell_type": "markdown",
      "metadata": {
        "id": "x4AQ7tuV5ukj"
      },
      "source": [
        "For some time around 2016–2017, bidirectional RNNs (in particular, `bidirectional LSTMs`) were considered to be the state of the art for sequence modeling. However, nowadays sequence modeling is almost universally done with `Transformers`.\n",
        "\n",
        "F. Chollet: \"One-dimensional convnets were never very popular in NLP, even though, a residual stack of depthwise-separable 1D convolutions can often achieve comparable performance to a bidirectional LSTM, at a greatly reduced computational cost.\""
      ]
    },
    {
      "cell_type": "markdown",
      "metadata": {
        "id": "Ydgzc1l15ukl"
      },
      "source": [
        "### Import Packages"
      ]
    },
    {
      "cell_type": "code",
      "execution_count": 18,
      "metadata": {
        "id": "9d9VZa_T5ukm"
      },
      "outputs": [],
      "source": [
        "from packaging import version\n",
        "import pandas as pd\n",
        "import numpy as np\n",
        "import datetime\n",
        "import re\n",
        "import matplotlib.pyplot as plt\n",
        "import string\n",
        "\n",
        "import seaborn as sns\n",
        "from sklearn.metrics import mean_squared_error as MSE\n",
        "from sklearn.metrics import accuracy_score\n",
        "from sklearn.metrics import confusion_matrix, classification_report\n",
        "\n",
        "import tensorflow as tf\n",
        "from tensorflow import keras\n",
        "import tensorflow_datasets as tfds\n",
        "from tensorflow import keras\n",
        "from tensorflow.keras import layers\n",
        "import tensorflow.keras.backend as k\n",
        "\n",
        "import nltk\n",
        "from nltk.corpus import stopwords"
      ]
    },
    {
      "cell_type": "markdown",
      "metadata": {
        "id": "SNt8VbLK5ukp"
      },
      "source": [
        "### Verify TensorFlow version"
      ]
    },
    {
      "cell_type": "code",
      "execution_count": 2,
      "metadata": {
        "colab": {
          "base_uri": "https://localhost:8080/"
        },
        "id": "kujC9adr5ukq",
        "outputId": "4625c321-7a8f-4815-f3a9-c91378a29d52"
      },
      "outputs": [
        {
          "output_type": "stream",
          "name": "stdout",
          "text": [
            "This notebook requires TensorFlow 2.0 or above\n",
            "TensorFlow version:  2.15.0\n"
          ]
        }
      ],
      "source": [
        "print(\"This notebook requires TensorFlow 2.0 or above\")\n",
        "print(\"TensorFlow version: \", tf.__version__)\n",
        "assert version.parse(tf.__version__).release[0] >=2"
      ]
    },
    {
      "cell_type": "markdown",
      "metadata": {
        "id": "vNfYcuE06miS"
      },
      "source": [
        "### Stopword Function"
      ]
    },
    {
      "cell_type": "code",
      "execution_count": 3,
      "metadata": {
        "id": "pRlDlyuG6miT"
      },
      "outputs": [],
      "source": [
        "def custom_stopwords(input_text):\n",
        "    lowercase = tf.strings.lower(input_text)\n",
        "    stripped_punct = tf.strings.regex_replace(lowercase\n",
        "                                  ,'[%s]' % re.escape(string.punctuation)\n",
        "                                  ,'')\n",
        "    return tf.strings.regex_replace(stripped_punct, r'\\b(' + r'|'.join(STOPWORDS) + r')\\b\\s*',\"\")"
      ]
    },
    {
      "cell_type": "markdown",
      "metadata": {
        "id": "kxJNPLHZ6miT"
      },
      "source": [
        "### Plotting Model Performance Metrics"
      ]
    },
    {
      "cell_type": "code",
      "execution_count": 4,
      "metadata": {
        "id": "FpE75Sps6miT"
      },
      "outputs": [],
      "source": [
        "def display_training_curves(training, validation, title, subplot):\n",
        "  ax = plt.subplot(subplot)\n",
        "  ax.plot(training)\n",
        "  ax.plot(validation)\n",
        "  ax.set_title('model '+ title)\n",
        "  ax.set_ylabel(title)\n",
        "  ax.set_xlabel('epoch')\n",
        "  ax.legend(['training', 'validation'])\n",
        "\n",
        "def print_validation_report(test_labels, predictions):\n",
        "    print(\"Classification Report\")\n",
        "    print(classification_report(test_labels, predictions))\n",
        "    print('Accuracy Score: {}'.format(accuracy_score(test_labels, predictions)))\n",
        "    print('Root Mean Square Error: {}'.format(np.sqrt(MSE(test_labels, predictions))))\n",
        "\n",
        "def plot_confusion_matrix(y_true, y_pred):\n",
        "    mtx = confusion_matrix(y_true, y_pred)\n",
        "    fig, ax = plt.subplots(figsize=(12,8))\n",
        "    sns.heatmap(mtx, annot=True, fmt='d', linewidths=.75,  cbar=False, ax=ax,cmap='Blues',linecolor='white')\n",
        "    #  square=True,\n",
        "    plt.ylabel('true label')\n",
        "    plt.xlabel('predicted label')"
      ]
    },
    {
      "cell_type": "markdown",
      "metadata": {
        "id": "z1Gn6wYG5uks"
      },
      "source": [
        "### Mount Google Drive to Colab environment"
      ]
    },
    {
      "cell_type": "code",
      "execution_count": 5,
      "metadata": {
        "id": "8jHzLMMB5ukt"
      },
      "outputs": [],
      "source": [
        "#from google.colab import drive\n",
        "#drive.mount('/content/gdrive')"
      ]
    },
    {
      "cell_type": "markdown",
      "metadata": {
        "id": "XvqFLia1Rro9"
      },
      "source": [
        "### Load Data"
      ]
    },
    {
      "cell_type": "code",
      "source": [
        "!tfds build --register_checksums --datasets=ag_news_subset"
      ],
      "metadata": {
        "id": "GfUPY_1xXG2r",
        "outputId": "a9fb37ea-a76f-49c0-aa99-6318cb21b52a",
        "colab": {
          "base_uri": "https://localhost:8080/"
        }
      },
      "execution_count": 6,
      "outputs": [
        {
          "output_type": "stream",
          "name": "stdout",
          "text": [
            "INFO[build.py]: Loading dataset ag_news_subset from imports: tensorflow_datasets.datasets.ag_news_subset.ag_news_subset_dataset_builder\n",
            "2024-03-24 21:38:43.362168: E external/local_xla/xla/stream_executor/cuda/cuda_dnn.cc:9261] Unable to register cuDNN factory: Attempting to register factory for plugin cuDNN when one has already been registered\n",
            "2024-03-24 21:38:43.362221: E external/local_xla/xla/stream_executor/cuda/cuda_fft.cc:607] Unable to register cuFFT factory: Attempting to register factory for plugin cuFFT when one has already been registered\n",
            "2024-03-24 21:38:43.367534: E external/local_xla/xla/stream_executor/cuda/cuda_blas.cc:1515] Unable to register cuBLAS factory: Attempting to register factory for plugin cuBLAS when one has already been registered\n",
            "2024-03-24 21:38:47.230561: W tensorflow/compiler/tf2tensorrt/utils/py_utils.cc:38] TF-TRT Warning: Could not find TensorRT\n",
            "INFO[utils.py]: NumExpr defaulting to 2 threads.\n",
            "2024-03-24 21:38:51.125839: W external/local_tsl/tsl/platform/cloud/google_auth_provider.cc:184] All attempts to get a Google authentication bearer token failed, returning an empty token. Retrieving token from files failed with \"NOT_FOUND: Could not locate the credentials file.\". Retrieving token from GCE failed with \"NOT_FOUND: Error executing an HTTP request: HTTP response code 404\".\n",
            "INFO[dataset_info.py]: Load pre-computed DatasetInfo (eg: splits, num examples,...) from GCS: ag_news_subset/1.0.0\n",
            "INFO[dataset_info.py]: Load dataset info from /tmp/tmprxxa31a4tfds\n",
            "INFO[dataset_info.py]: For 'ag_news_subset/1.0.0': fields info.[description, splits, supervised_keys, module_name] differ on disk and in the code. Keeping the one from code.\n",
            "INFO[build.py]: download_and_prepare for dataset ag_news_subset/1.0.0...\n",
            "INFO[dataset_builder.py]: Generating dataset ag_news_subset (/root/tensorflow_datasets/ag_news_subset/1.0.0)\n",
            "\u001b[1mDownloading and preparing dataset 11.24 MiB (download: 11.24 MiB, generated: 35.79 MiB, total: 47.03 MiB) to /root/tensorflow_datasets/ag_news_subset/1.0.0...\u001b[0m\n",
            "Dl Completed...: 0 url [00:00, ? url/s]\n",
            "Dl Size...: 0 MiB [00:00, ? MiB/s]\u001b[A\n",
            "\n",
            "                                       \n",
            "\n",
            "\u001b[A\u001b[A\n",
            "\u001b[AINFO[download_manager.py]: Downloading https://drive.google.com/uc?export=download&id=0Bz8a_Dbh9QhbUDNpeUdjb0wxRms into /root/tensorflow_datasets/downloads/ucexport_download_id_0Bz8a_Dbh9QhbUDNpeUdjb0wxj4g1umFAV8OV-uDwxSJR0LdxO_k1jxMuFWwAfNX9jos.tmp.5cb8757a1b9e456fb8f7a2521a7e2198...\n",
            "Dl Completed...: 0 url [00:00, ? url/s]\n",
            "\n",
            "Extraction completed...: 0 file [00:00, ? file/s]\u001b[A\u001b[A\n",
            "Dl Completed...:   0% 0/1 [00:00<?, ? url/s]\n",
            "Dl Size...: 0 MiB [00:00, ? MiB/s]\u001b[A\n",
            "\n",
            "Dl Completed...:   0% 0/1 [00:11<?, ? url/s]\n",
            "Dl Size...:   0% 0/11 [00:11<?, ? MiB/s]\u001b[A\n",
            "\n",
            "Extraction completed...: 0 file [00:11, ? file/s]\u001b[A\u001b[A\n",
            "Dl Completed...:   0% 0/1 [00:11<?, ? url/s]\n",
            "Dl Size...:   9% 1/11 [00:11<01:55, 11.59s/ MiB]\u001b[A\n",
            "\n",
            "Dl Completed...:   0% 0/1 [00:11<?, ? url/s]\n",
            "Dl Size...:  18% 2/11 [00:11<01:44, 11.59s/ MiB]\u001b[A\n",
            "\n",
            "Dl Completed...:   0% 0/1 [00:11<?, ? url/s]\n",
            "Dl Size...:  27% 3/11 [00:11<01:32, 11.59s/ MiB]\u001b[A\n",
            "\n",
            "Dl Completed...:   0% 0/1 [00:11<?, ? url/s]\n",
            "Dl Size...:  36% 4/11 [00:11<01:21, 11.59s/ MiB]\u001b[A\n",
            "\n",
            "Dl Completed...:   0% 0/1 [00:11<?, ? url/s]\n",
            "Dl Size...:  45% 5/11 [00:11<01:09, 11.59s/ MiB]\u001b[A\n",
            "\n",
            "Dl Completed...:   0% 0/1 [00:11<?, ? url/s]\n",
            "Dl Size...:  55% 6/11 [00:11<00:57, 11.59s/ MiB]\u001b[A\n",
            "\n",
            "Dl Completed...:   0% 0/1 [00:11<?, ? url/s]\n",
            "Dl Size...:  64% 7/11 [00:11<00:46, 11.59s/ MiB]\u001b[A\n",
            "\n",
            "Dl Completed...:   0% 0/1 [00:11<?, ? url/s]\n",
            "Dl Size...:  73% 8/11 [00:11<00:34, 11.59s/ MiB]\u001b[A\n",
            "\n",
            "Dl Completed...:   0% 0/1 [00:11<?, ? url/s]\n",
            "Dl Size...:  82% 9/11 [00:11<00:23, 11.59s/ MiB]\u001b[A\n",
            "\n",
            "Dl Completed...:   0% 0/1 [00:11<?, ? url/s]\n",
            "Dl Size...:  91% 10/11 [00:11<00:11, 11.59s/ MiB]\u001b[A\n",
            "\n",
            "Dl Completed...:   0% 0/1 [00:11<?, ? url/s]\n",
            "Dl Size...: 100% 11/11 [00:11<00:00, 11.59s/ MiB]\u001b[A\n",
            "\n",
            "Dl Completed...: 100% 1/1 [00:11<00:00, 11.94s/ url]\n",
            "Dl Size...: 100% 11/11 [00:11<00:00, 11.59s/ MiB]\u001b[A\n",
            "\n",
            "Dl Completed...: 100% 1/1 [00:12<00:00, 11.94s/ url]\n",
            "Dl Size...: 100% 11/11 [00:12<00:00, 11.59s/ MiB]\u001b[A\n",
            "\n",
            "Dl Completed...: 100% 1/1 [00:12<00:00, 11.94s/ url]\n",
            "Dl Size...: 100% 11/11 [00:12<00:00, 11.59s/ MiB]\u001b[A\n",
            "\n",
            "Dl Completed...: 100% 1/1 [00:12<00:00, 11.94s/ url]\n",
            "Dl Size...: 100% 11/11 [00:12<00:00, 11.59s/ MiB]\u001b[A\n",
            "\n",
            "Dl Completed...: 100% 1/1 [00:12<00:00, 11.94s/ url]\n",
            "Dl Size...: 100% 11/11 [00:12<00:00, 11.59s/ MiB]\u001b[A\n",
            "\n",
            "Extraction completed...:   0% 0/4 [00:12<?, ? file/s]\u001b[A\u001b[A\n",
            "\n",
            "Dl Completed...: 100% 1/1 [00:12<00:00, 11.94s/ url]\n",
            "Dl Size...: 100% 11/11 [00:12<00:00, 11.59s/ MiB]\u001b[A\n",
            "\n",
            "Dl Completed...: 100% 1/1 [00:12<00:00, 11.94s/ url]\n",
            "Dl Size...: 100% 11/11 [00:12<00:00, 11.59s/ MiB]\u001b[A\n",
            "\n",
            "Dl Completed...: 100% 1/1 [00:12<00:00, 11.94s/ url]\n",
            "Dl Size...: 100% 11/11 [00:12<00:00, 11.59s/ MiB]\u001b[A\n",
            "\n",
            "Dl Completed...: 100% 1/1 [00:12<00:00, 11.94s/ url]\n",
            "Dl Size...: 100% 11/11 [00:12<00:00, 11.59s/ MiB]\u001b[A\n",
            "\n",
            "Extraction completed...: 100% 4/4 [00:12<00:00,  3.05s/ file]\n",
            "Dl Size...: 100% 11/11 [00:12<00:00,  1.11s/ MiB]\n",
            "Dl Completed...: 100% 1/1 [00:12<00:00, 12.19s/ url]\n",
            "Generating splits...:   0% 0/2 [00:00<?, ? splits/s]\n",
            "Generating train examples...:   0% 0/120000 [00:00<?, ? examples/s]\u001b[A\n",
            "Generating train examples...:  10% 12242/120000 [00:01<00:08, 12241.33 examples/s]\u001b[A\n",
            "Generating train examples...:  20% 24484/120000 [00:02<00:07, 12234.70 examples/s]\u001b[A\n",
            "Generating train examples...:  31% 36719/120000 [00:03<00:07, 11255.61 examples/s]\u001b[A\n",
            "Generating train examples...:  40% 48060/120000 [00:04<00:07, 9440.15 examples/s] \u001b[A\n",
            "Generating train examples...:  48% 57866/120000 [00:05<00:06, 9429.75 examples/s]\u001b[A\n",
            "Generating train examples...:  58% 69613/120000 [00:06<00:04, 10133.46 examples/s]\u001b[A\n",
            "Generating train examples...:  67% 80742/120000 [00:07<00:03, 10434.50 examples/s]\u001b[A\n",
            "Generating train examples...:  77% 92386/120000 [00:08<00:02, 10799.48 examples/s]\u001b[A\n",
            "Generating train examples...:  87% 104194/120000 [00:09<00:01, 11103.25 examples/s]\u001b[A\n",
            "Generating train examples...:  97% 115917/120000 [00:10<00:00, 11289.54 examples/s]\u001b[A\n",
            "                                                                                   \u001b[A\n",
            "Shuffling /root/tensorflow_datasets/ag_news_subset/1.0.0.incompleteJG143O/ag_news_subset-train.tfrecord*...:   0% 0/120000 [00:00<?, ? examples/s]\u001b[A\n",
            "Shuffling /root/tensorflow_datasets/ag_news_subset/1.0.0.incompleteJG143O/ag_news_subset-train.tfrecord*...:   9% 10828/120000 [00:00<00:01, 108272.36 examples/s]\u001b[A\n",
            "Shuffling /root/tensorflow_datasets/ag_news_subset/1.0.0.incompleteJG143O/ag_news_subset-train.tfrecord*...:  45% 53752/120000 [00:00<00:00, 297055.70 examples/s]\u001b[A\n",
            "Shuffling /root/tensorflow_datasets/ag_news_subset/1.0.0.incompleteJG143O/ag_news_subset-train.tfrecord*...:  83% 99757/120000 [00:00<00:00, 371429.44 examples/s]\u001b[A\n",
            "INFO[writer.py]: Done writing /root/tensorflow_datasets/ag_news_subset/1.0.0.incompleteJG143O/ag_news_subset-train.tfrecord*. Number of examples: 120000 (shards: [120000])\n",
            "Generating splits...:  50% 1/2 [00:11<00:11, 11.49s/ splits]\n",
            "Generating test examples...:   0% 0/7600 [00:00<?, ? examples/s]\u001b[A\n",
            "                                                                \u001b[A\n",
            "Shuffling /root/tensorflow_datasets/ag_news_subset/1.0.0.incompleteJG143O/ag_news_subset-test.tfrecord*...:   0% 0/7600 [00:00<?, ? examples/s]\u001b[A\n",
            "INFO[writer.py]: Done writing /root/tensorflow_datasets/ag_news_subset/1.0.0.incompleteJG143O/ag_news_subset-test.tfrecord*. Number of examples: 7600 (shards: [7600])\n",
            "\u001b[1mDataset ag_news_subset downloaded and prepared to /root/tensorflow_datasets/ag_news_subset/1.0.0. Subsequent calls will reuse this data.\u001b[0m\n",
            "INFO[build.py]: Dataset generation complete...\n",
            "\n",
            "tfds.core.DatasetInfo(\n",
            "    name='ag_news_subset',\n",
            "    full_name='ag_news_subset/1.0.0',\n",
            "    description=\"\"\"\n",
            "    AG is a collection of more than 1 million news articles. News articles have been\n",
            "    gathered from more than 2000 news sources by ComeToMyHead in more than 1 year of\n",
            "    activity. ComeToMyHead is an academic news search engine which has been running\n",
            "    since July, 2004. The dataset is provided by the academic comunity for research\n",
            "    purposes in data mining (clustering, classification, etc), information retrieval\n",
            "    (ranking, search, etc), xml, data compression, data streaming, and any other\n",
            "    non-commercial activity. For more information, please refer to the link\n",
            "    http://www.di.unipi.it/~gulli/AG_corpus_of_news_articles.html .\n",
            "    \n",
            "    The AG's news topic classification dataset is constructed by Xiang Zhang\n",
            "    (xiang.zhang@nyu.edu) from the dataset above. It is used as a text\n",
            "    classification benchmark in the following paper: Xiang Zhang, Junbo Zhao, Yann\n",
            "    LeCun. Character-level Convolutional Networks for Text Classification. Advances\n",
            "    in Neural Information Processing Systems 28 (NIPS 2015).\n",
            "    \n",
            "    The AG's news topic classification dataset is constructed by choosing 4 largest\n",
            "    classes from the original corpus. Each class contains 30,000 training samples\n",
            "    and 1,900 testing samples. The total number of training samples is 120,000 and\n",
            "    testing 7,600.\n",
            "    \"\"\",\n",
            "    homepage='https://arxiv.org/abs/1509.01626',\n",
            "    data_dir=PosixGPath('/tmp/tmprxxa31a4tfds'),\n",
            "    file_format=tfrecord,\n",
            "    download_size=11.24 MiB,\n",
            "    dataset_size=35.79 MiB,\n",
            "    features=FeaturesDict({\n",
            "        'description': Text(shape=(), dtype=string),\n",
            "        'label': ClassLabel(shape=(), dtype=int64, num_classes=4),\n",
            "        'title': Text(shape=(), dtype=string),\n",
            "    }),\n",
            "    supervised_keys=('description', 'label'),\n",
            "    disable_shuffling=False,\n",
            "    splits={\n",
            "        'test': <SplitInfo num_examples=7600, num_shards=1>,\n",
            "        'train': <SplitInfo num_examples=120000, num_shards=1>,\n",
            "    },\n",
            "    citation=\"\"\"@misc{zhang2015characterlevel,\n",
            "        title={Character-level Convolutional Networks for Text Classification},\n",
            "        author={Xiang Zhang and Junbo Zhao and Yann LeCun},\n",
            "        year={2015},\n",
            "        eprint={1509.01626},\n",
            "        archivePrefix={arXiv},\n",
            "        primaryClass={cs.LG}\n",
            "    }\"\"\",\n",
            ")\n",
            "\n"
          ]
        }
      ]
    },
    {
      "cell_type": "code",
      "source": [
        "dataset,info=\\\n",
        "tfds.load('ag_news_subset', with_info=True,  split=['train[:95%]','train[95%:]', 'test'],batch_size = 32\n",
        "          , as_supervised=True)\n",
        "\n",
        "train_ds, val_ds, test_ds = dataset\n",
        "text_only_train_ds = train_ds.map(lambda x, y: x)"
      ],
      "metadata": {
        "id": "UnD060spXGn5"
      },
      "execution_count": 7,
      "outputs": []
    },
    {
      "cell_type": "markdown",
      "metadata": {
        "id": "mq7Q6zlFRro_"
      },
      "source": [
        "### Preparing Integer Sequence Datasets"
      ]
    },
    {
      "cell_type": "code",
      "execution_count": 8,
      "metadata": {
        "id": "EqI-g6DE6miV"
      },
      "outputs": [],
      "source": [
        "nltk.download('stopwords',quiet=True)\n",
        "STOPWORDS = stopwords.words(\"english\")"
      ]
    },
    {
      "cell_type": "code",
      "execution_count": 9,
      "metadata": {
        "id": "AfTnCGIERrpA"
      },
      "outputs": [],
      "source": [
        "max_length = 96\n",
        "max_tokens = 1000\n",
        "text_vectorization = layers.TextVectorization(\n",
        "    max_tokens=max_tokens,\n",
        "    output_mode=\"int\",\n",
        "    output_sequence_length=max_length,\n",
        "    standardize=custom_stopwords\n",
        ")\n",
        "text_vectorization.adapt(text_only_train_ds)\n",
        "\n",
        "int_train_ds = train_ds.map(\n",
        "    lambda x, y: (text_vectorization(x), y),\n",
        "    num_parallel_calls=4)\n",
        "int_val_ds = val_ds.map(\n",
        "    lambda x, y: (text_vectorization(x), y),\n",
        "    num_parallel_calls=4)\n",
        "int_test_ds = test_ds.map(\n",
        "    lambda x, y: (text_vectorization(x), y),\n",
        "    num_parallel_calls=4)"
      ]
    },
    {
      "cell_type": "markdown",
      "metadata": {
        "id": "NBL0CkaB5ukv"
      },
      "source": [
        "### Bi-directional RNN\n",
        "\n",
        "When translating in real-time, it would help to have access to worlds towards the end of a sentence, say, as well as earlier words in the sentence. One way to use the later words in the sentence is to feed the words into our RNN backward. So if we create two independent RNNs, we can feed one the words in their forward, or natural order, and the second gets their words in the revser order. This is the idea behind `Bi-directional RNNS`:"
      ]
    },
    {
      "cell_type": "markdown",
      "metadata": {
        "id": "EuP7exeZ5ukw"
      },
      "source": [
        "<img src=\"https://github.com/djp840/MSDS_458_Public/blob/main/images2/BidirectionalRNN.png?raw=1\">"
      ]
    },
    {
      "cell_type": "markdown",
      "metadata": {
        "id": "fTprEi3bRrpD"
      },
      "source": [
        "### Understanding word embeddings"
      ]
    },
    {
      "cell_type": "markdown",
      "metadata": {
        "id": "pmHdhUnM5ukz"
      },
      "source": [
        "When you encode something via `one-hot encoding`, you’re making a feature-engineering decision. You’re injecting into your model a fundamental assumption about the structure of your feature space. That assumption is that the different tokens you’re encoding are all independent from each other: indeed, one-hot vectors are all orthogonal to one another."
      ]
    },
    {
      "cell_type": "markdown",
      "metadata": {
        "id": "webaWkZJ5ukz"
      },
      "source": [
        "However, in a reasonable word vector space, you would expect synonyms to be embedded into similar word vectors, and in general, you would expect the geometric distance  between any two word vectors to relate to the “semantic distance” between the associated words.\n",
        "\n",
        "Words that mean different things should lie far away from each other, whereas related words should be closer."
      ]
    },
    {
      "cell_type": "markdown",
      "metadata": {
        "id": "b-W1sFgg5ukz"
      },
      "source": [
        "`Word embeddings` are vector representations of words that achieve exactly this: they map human language into a structured geometric space."
      ]
    },
    {
      "cell_type": "markdown",
      "metadata": {
        "id": "0egzHasW5ukz"
      },
      "source": [
        "Whereas the vectors obtained through `one-hot encoding` are *binary*, *sparse*, and *very high-dimensional* (the same dimensionality as the number of words in the vocabulary), `word embeddings` are *low-dimensional floating-point vectors* (that is, `dense vectors`, as opposed to `sparse vectors`)."
      ]
    },
    {
      "cell_type": "markdown",
      "metadata": {
        "id": "dHU4tS3b5uk0"
      },
      "source": [
        "<img src=\"https://github.com/djp840/MSDS_458_Public/blob/main/images2/EmbeddingsSparse.png?raw=1\">"
      ]
    },
    {
      "cell_type": "markdown",
      "metadata": {
        "id": "im1j5PRE5uk0"
      },
      "source": [
        "### Two ways to obtain word embeddings\n",
        "\n",
        "1. `Learn word embeddings jointly with the main task you care about` (such as document classification or sentiment prediction). In this setup, you start with random word vectors and then learn word vectors in the same way you learn the weights of a neural network.\n",
        "2. Load into your model word embeddings that were precomputed using a different machine learning task than the one you’re trying to solve. These are called `pretrained word embeddings`.\n"
      ]
    },
    {
      "cell_type": "markdown",
      "metadata": {
        "id": "j69C96c65uk1"
      },
      "source": [
        "<div class=\"alert alert-block alert-success\"><b>tf.keras.layers.Embedding</b><br>\n",
        "https://www.tensorflow.org/api_docs/python/tf/keras/layers/Embedding </div>"
      ]
    },
    {
      "cell_type": "markdown",
      "metadata": {
        "id": "M0gOTdNnRrpF"
      },
      "source": [
        "### Understanding Padding and Masking"
      ]
    },
    {
      "cell_type": "markdown",
      "metadata": {
        "id": "zOudeXoa5uk4"
      },
      "source": [
        "One thing that’s slightly hurting model performance here is that our input sequences are full of zeros. This comes from our use of the `output_sequence_length=max_ length` option in TextVectorization (with `max_length equal` to 150): sentences longer than 150 tokens are truncated to a length of 150 tokens, and sentences shorter than 150 tokens are padded with zeros at the end so that they can be concatenated together with other sequences to form contiguous batches."
      ]
    },
    {
      "cell_type": "markdown",
      "metadata": {
        "id": "hM95tdc65uk4"
      },
      "source": [
        "The RNN that looks at the tokens in their natural order will spend its last iterations seeing only vectors that encode padding—possibly for several hundreds of iterations if the original sentence was short. The information stored in the internal state of the RNN will gradually fade out as it gets exposed to these meaningless inputs."
      ]
    },
    {
      "cell_type": "markdown",
      "metadata": {
        "id": "U93_Szgn5uk4"
      },
      "source": [
        "We need some way to tell the RNN that it should skip these iterations. There’s an API for that: `masking`."
      ]
    },
    {
      "cell_type": "markdown",
      "metadata": {
        "id": "t1SxQSW85uk4"
      },
      "source": [
        "<div class=\"alert alert-block alert-success\"><b>tf.keras.layers.Masking</b><br>\n",
        "https://www.tensorflow.org/api_docs/python/tf/keras/layers/Masking</div>"
      ]
    },
    {
      "cell_type": "markdown",
      "metadata": {
        "id": "HGe0pvoxRrpF"
      },
      "source": [
        "### Model Leveraging Embedding Layer With Masking Enabled"
      ]
    },
    {
      "cell_type": "code",
      "execution_count": 10,
      "metadata": {
        "scrolled": false,
        "colab": {
          "base_uri": "https://localhost:8080/"
        },
        "id": "ldPmLR9w6miZ",
        "outputId": "d3c65afd-87e4-4680-817b-ec81d5f78b62"
      },
      "outputs": [
        {
          "output_type": "stream",
          "name": "stdout",
          "text": [
            "Model: \"model\"\n",
            "_________________________________________________________________\n",
            " Layer (type)                Output Shape              Param #   \n",
            "=================================================================\n",
            " input_1 (InputLayer)        [(None, None)]            0         \n",
            "                                                                 \n",
            " tf.one_hot (TFOpLambda)     (None, None, 1000)        0         \n",
            "                                                                 \n",
            " conv1d (Conv1D)             (None, None, 32)          96032     \n",
            "                                                                 \n",
            " dropout (Dropout)           (None, None, 32)          0         \n",
            "                                                                 \n",
            " max_pooling1d (MaxPooling1  (None, None, 32)          0         \n",
            " D)                                                              \n",
            "                                                                 \n",
            " global_max_pooling1d (Glob  (None, 32)                0         \n",
            " alMaxPooling1D)                                                 \n",
            "                                                                 \n",
            " dense (Dense)               (None, 256)               8448      \n",
            "                                                                 \n",
            " dense_1 (Dense)             (None, 4)                 1028      \n",
            "                                                                 \n",
            "=================================================================\n",
            "Total params: 105508 (412.14 KB)\n",
            "Trainable params: 105508 (412.14 KB)\n",
            "Non-trainable params: 0 (0.00 Byte)\n",
            "_________________________________________________________________\n",
            "Epoch 1/200\n",
            "3563/3563 [==============================] - 22s 5ms/step - loss: 0.5596 - accuracy: 0.7975 - val_loss: 0.4660 - val_accuracy: 0.8518\n"
          ]
        },
        {
          "output_type": "stream",
          "name": "stderr",
          "text": [
            "/usr/local/lib/python3.10/dist-packages/keras/src/engine/training.py:3103: UserWarning: You are saving your model as an HDF5 file via `model.save()`. This file format is considered legacy. We recommend using instead the native Keras format, e.g. `model.save('my_model.keras')`.\n",
            "  saving_api.save_model(\n"
          ]
        },
        {
          "output_type": "stream",
          "name": "stdout",
          "text": [
            "Epoch 2/200\n",
            "3563/3563 [==============================] - 17s 5ms/step - loss: 0.4550 - accuracy: 0.8403 - val_loss: 0.4532 - val_accuracy: 0.8525\n",
            "Epoch 3/200\n",
            "3563/3563 [==============================] - 17s 5ms/step - loss: 0.4446 - accuracy: 0.8432 - val_loss: 0.4490 - val_accuracy: 0.8542\n",
            "Epoch 4/200\n",
            "3563/3563 [==============================] - 17s 5ms/step - loss: 0.4431 - accuracy: 0.8446 - val_loss: 0.4550 - val_accuracy: 0.8535\n",
            "Epoch 5/200\n",
            "3563/3563 [==============================] - 17s 5ms/step - loss: 0.4440 - accuracy: 0.8454 - val_loss: 0.4613 - val_accuracy: 0.8515\n",
            "Epoch 6/200\n",
            "3563/3563 [==============================] - 16s 5ms/step - loss: 0.4458 - accuracy: 0.8458 - val_loss: 0.4593 - val_accuracy: 0.8537\n",
            "238/238 [==============================] - 1s 4ms/step - loss: 0.4585 - accuracy: 0.8482\n",
            "Test acc: 0.848\n"
          ]
        }
      ],
      "source": [
        "k.clear_session()\n",
        "inputs = tf.keras.Input(shape=(None,), dtype=\"int64\")\n",
        "embedded = tf.one_hot(inputs, depth=max_tokens)\n",
        "x = layers.Conv1D(filters=32, kernel_size=3, activation='relu')(embedded)\n",
        "x = layers.Dropout(0.5)(x)\n",
        "x = layers.MaxPooling1D(pool_size=2)(x)\n",
        "x = layers.GlobalMaxPooling1D()(x)\n",
        "x = layers.Dense(256, activation='relu')(x)\n",
        "outputs = layers.Dense(4, activation=\"softmax\")(x)\n",
        "model = tf.keras.Model(inputs, outputs)\n",
        "model.compile(optimizer=\"rmsprop\",\n",
        "              loss=\"SparseCategoricalCrossentropy\",\n",
        "              metrics=[\"accuracy\"])\n",
        "model.summary()\n",
        "\n",
        "callbacks = [\n",
        "    tf.keras.callbacks.ModelCheckpoint(\"1Dcnn.h5\",save_best_only=True)\n",
        "    ,tf.keras.callbacks.EarlyStopping(monitor='val_accuracy', patience=3)\n",
        "]\n",
        "history=model.fit(int_train_ds, validation_data=int_val_ds, epochs=200, callbacks=callbacks)\n",
        "model = keras.models.load_model(\"1Dcnn.h5\")\n",
        "print(f\"Test acc: {model.evaluate(int_test_ds)[1]:.3f}\")"
      ]
    },
    {
      "cell_type": "markdown",
      "metadata": {
        "id": "7R-PUs1-6mig"
      },
      "source": [
        "### Post Modeling Metrics"
      ]
    },
    {
      "cell_type": "code",
      "execution_count": 11,
      "metadata": {
        "colab": {
          "base_uri": "https://localhost:8080/"
        },
        "id": "reSWbIGB6mig",
        "outputId": "f947928d-8771-4a7b-89b5-557c494474c2"
      },
      "outputs": [
        {
          "output_type": "execute_result",
          "data": {
            "text/plain": [
              "dict_keys(['loss', 'accuracy', 'val_loss', 'val_accuracy'])"
            ]
          },
          "metadata": {},
          "execution_count": 11
        }
      ],
      "source": [
        "history_dict = history.history\n",
        "history_dict.keys()"
      ]
    },
    {
      "cell_type": "code",
      "execution_count": 12,
      "metadata": {
        "colab": {
          "base_uri": "https://localhost:8080/",
          "height": 206
        },
        "id": "J9FChLp26mig",
        "outputId": "aca6ed30-47aa-4d69-89e8-e06e1bbefa3b"
      },
      "outputs": [
        {
          "output_type": "execute_result",
          "data": {
            "text/plain": [
              "    loss  accuracy  val_loss  val_accuracy\n",
              "1  0.455     0.840     0.453         0.853\n",
              "2  0.445     0.843     0.449         0.854\n",
              "3  0.443     0.845     0.455         0.854\n",
              "4  0.444     0.845     0.461         0.851\n",
              "5  0.446     0.846     0.459         0.854"
            ],
            "text/html": [
              "\n",
              "  <div id=\"df-920e1035-a168-45cf-995f-c5ef10dc9f28\" class=\"colab-df-container\">\n",
              "    <div>\n",
              "<style scoped>\n",
              "    .dataframe tbody tr th:only-of-type {\n",
              "        vertical-align: middle;\n",
              "    }\n",
              "\n",
              "    .dataframe tbody tr th {\n",
              "        vertical-align: top;\n",
              "    }\n",
              "\n",
              "    .dataframe thead th {\n",
              "        text-align: right;\n",
              "    }\n",
              "</style>\n",
              "<table border=\"1\" class=\"dataframe\">\n",
              "  <thead>\n",
              "    <tr style=\"text-align: right;\">\n",
              "      <th></th>\n",
              "      <th>loss</th>\n",
              "      <th>accuracy</th>\n",
              "      <th>val_loss</th>\n",
              "      <th>val_accuracy</th>\n",
              "    </tr>\n",
              "  </thead>\n",
              "  <tbody>\n",
              "    <tr>\n",
              "      <th>1</th>\n",
              "      <td>0.455</td>\n",
              "      <td>0.840</td>\n",
              "      <td>0.453</td>\n",
              "      <td>0.853</td>\n",
              "    </tr>\n",
              "    <tr>\n",
              "      <th>2</th>\n",
              "      <td>0.445</td>\n",
              "      <td>0.843</td>\n",
              "      <td>0.449</td>\n",
              "      <td>0.854</td>\n",
              "    </tr>\n",
              "    <tr>\n",
              "      <th>3</th>\n",
              "      <td>0.443</td>\n",
              "      <td>0.845</td>\n",
              "      <td>0.455</td>\n",
              "      <td>0.854</td>\n",
              "    </tr>\n",
              "    <tr>\n",
              "      <th>4</th>\n",
              "      <td>0.444</td>\n",
              "      <td>0.845</td>\n",
              "      <td>0.461</td>\n",
              "      <td>0.851</td>\n",
              "    </tr>\n",
              "    <tr>\n",
              "      <th>5</th>\n",
              "      <td>0.446</td>\n",
              "      <td>0.846</td>\n",
              "      <td>0.459</td>\n",
              "      <td>0.854</td>\n",
              "    </tr>\n",
              "  </tbody>\n",
              "</table>\n",
              "</div>\n",
              "    <div class=\"colab-df-buttons\">\n",
              "\n",
              "  <div class=\"colab-df-container\">\n",
              "    <button class=\"colab-df-convert\" onclick=\"convertToInteractive('df-920e1035-a168-45cf-995f-c5ef10dc9f28')\"\n",
              "            title=\"Convert this dataframe to an interactive table.\"\n",
              "            style=\"display:none;\">\n",
              "\n",
              "  <svg xmlns=\"http://www.w3.org/2000/svg\" height=\"24px\" viewBox=\"0 -960 960 960\">\n",
              "    <path d=\"M120-120v-720h720v720H120Zm60-500h600v-160H180v160Zm220 220h160v-160H400v160Zm0 220h160v-160H400v160ZM180-400h160v-160H180v160Zm440 0h160v-160H620v160ZM180-180h160v-160H180v160Zm440 0h160v-160H620v160Z\"/>\n",
              "  </svg>\n",
              "    </button>\n",
              "\n",
              "  <style>\n",
              "    .colab-df-container {\n",
              "      display:flex;\n",
              "      gap: 12px;\n",
              "    }\n",
              "\n",
              "    .colab-df-convert {\n",
              "      background-color: #E8F0FE;\n",
              "      border: none;\n",
              "      border-radius: 50%;\n",
              "      cursor: pointer;\n",
              "      display: none;\n",
              "      fill: #1967D2;\n",
              "      height: 32px;\n",
              "      padding: 0 0 0 0;\n",
              "      width: 32px;\n",
              "    }\n",
              "\n",
              "    .colab-df-convert:hover {\n",
              "      background-color: #E2EBFA;\n",
              "      box-shadow: 0px 1px 2px rgba(60, 64, 67, 0.3), 0px 1px 3px 1px rgba(60, 64, 67, 0.15);\n",
              "      fill: #174EA6;\n",
              "    }\n",
              "\n",
              "    .colab-df-buttons div {\n",
              "      margin-bottom: 4px;\n",
              "    }\n",
              "\n",
              "    [theme=dark] .colab-df-convert {\n",
              "      background-color: #3B4455;\n",
              "      fill: #D2E3FC;\n",
              "    }\n",
              "\n",
              "    [theme=dark] .colab-df-convert:hover {\n",
              "      background-color: #434B5C;\n",
              "      box-shadow: 0px 1px 3px 1px rgba(0, 0, 0, 0.15);\n",
              "      filter: drop-shadow(0px 1px 2px rgba(0, 0, 0, 0.3));\n",
              "      fill: #FFFFFF;\n",
              "    }\n",
              "  </style>\n",
              "\n",
              "    <script>\n",
              "      const buttonEl =\n",
              "        document.querySelector('#df-920e1035-a168-45cf-995f-c5ef10dc9f28 button.colab-df-convert');\n",
              "      buttonEl.style.display =\n",
              "        google.colab.kernel.accessAllowed ? 'block' : 'none';\n",
              "\n",
              "      async function convertToInteractive(key) {\n",
              "        const element = document.querySelector('#df-920e1035-a168-45cf-995f-c5ef10dc9f28');\n",
              "        const dataTable =\n",
              "          await google.colab.kernel.invokeFunction('convertToInteractive',\n",
              "                                                    [key], {});\n",
              "        if (!dataTable) return;\n",
              "\n",
              "        const docLinkHtml = 'Like what you see? Visit the ' +\n",
              "          '<a target=\"_blank\" href=https://colab.research.google.com/notebooks/data_table.ipynb>data table notebook</a>'\n",
              "          + ' to learn more about interactive tables.';\n",
              "        element.innerHTML = '';\n",
              "        dataTable['output_type'] = 'display_data';\n",
              "        await google.colab.output.renderOutput(dataTable, element);\n",
              "        const docLink = document.createElement('div');\n",
              "        docLink.innerHTML = docLinkHtml;\n",
              "        element.appendChild(docLink);\n",
              "      }\n",
              "    </script>\n",
              "  </div>\n",
              "\n",
              "\n",
              "<div id=\"df-7b280e19-44c4-4308-b359-9e7af1e8f5aa\">\n",
              "  <button class=\"colab-df-quickchart\" onclick=\"quickchart('df-7b280e19-44c4-4308-b359-9e7af1e8f5aa')\"\n",
              "            title=\"Suggest charts\"\n",
              "            style=\"display:none;\">\n",
              "\n",
              "<svg xmlns=\"http://www.w3.org/2000/svg\" height=\"24px\"viewBox=\"0 0 24 24\"\n",
              "     width=\"24px\">\n",
              "    <g>\n",
              "        <path d=\"M19 3H5c-1.1 0-2 .9-2 2v14c0 1.1.9 2 2 2h14c1.1 0 2-.9 2-2V5c0-1.1-.9-2-2-2zM9 17H7v-7h2v7zm4 0h-2V7h2v10zm4 0h-2v-4h2v4z\"/>\n",
              "    </g>\n",
              "</svg>\n",
              "  </button>\n",
              "\n",
              "<style>\n",
              "  .colab-df-quickchart {\n",
              "      --bg-color: #E8F0FE;\n",
              "      --fill-color: #1967D2;\n",
              "      --hover-bg-color: #E2EBFA;\n",
              "      --hover-fill-color: #174EA6;\n",
              "      --disabled-fill-color: #AAA;\n",
              "      --disabled-bg-color: #DDD;\n",
              "  }\n",
              "\n",
              "  [theme=dark] .colab-df-quickchart {\n",
              "      --bg-color: #3B4455;\n",
              "      --fill-color: #D2E3FC;\n",
              "      --hover-bg-color: #434B5C;\n",
              "      --hover-fill-color: #FFFFFF;\n",
              "      --disabled-bg-color: #3B4455;\n",
              "      --disabled-fill-color: #666;\n",
              "  }\n",
              "\n",
              "  .colab-df-quickchart {\n",
              "    background-color: var(--bg-color);\n",
              "    border: none;\n",
              "    border-radius: 50%;\n",
              "    cursor: pointer;\n",
              "    display: none;\n",
              "    fill: var(--fill-color);\n",
              "    height: 32px;\n",
              "    padding: 0;\n",
              "    width: 32px;\n",
              "  }\n",
              "\n",
              "  .colab-df-quickchart:hover {\n",
              "    background-color: var(--hover-bg-color);\n",
              "    box-shadow: 0 1px 2px rgba(60, 64, 67, 0.3), 0 1px 3px 1px rgba(60, 64, 67, 0.15);\n",
              "    fill: var(--button-hover-fill-color);\n",
              "  }\n",
              "\n",
              "  .colab-df-quickchart-complete:disabled,\n",
              "  .colab-df-quickchart-complete:disabled:hover {\n",
              "    background-color: var(--disabled-bg-color);\n",
              "    fill: var(--disabled-fill-color);\n",
              "    box-shadow: none;\n",
              "  }\n",
              "\n",
              "  .colab-df-spinner {\n",
              "    border: 2px solid var(--fill-color);\n",
              "    border-color: transparent;\n",
              "    border-bottom-color: var(--fill-color);\n",
              "    animation:\n",
              "      spin 1s steps(1) infinite;\n",
              "  }\n",
              "\n",
              "  @keyframes spin {\n",
              "    0% {\n",
              "      border-color: transparent;\n",
              "      border-bottom-color: var(--fill-color);\n",
              "      border-left-color: var(--fill-color);\n",
              "    }\n",
              "    20% {\n",
              "      border-color: transparent;\n",
              "      border-left-color: var(--fill-color);\n",
              "      border-top-color: var(--fill-color);\n",
              "    }\n",
              "    30% {\n",
              "      border-color: transparent;\n",
              "      border-left-color: var(--fill-color);\n",
              "      border-top-color: var(--fill-color);\n",
              "      border-right-color: var(--fill-color);\n",
              "    }\n",
              "    40% {\n",
              "      border-color: transparent;\n",
              "      border-right-color: var(--fill-color);\n",
              "      border-top-color: var(--fill-color);\n",
              "    }\n",
              "    60% {\n",
              "      border-color: transparent;\n",
              "      border-right-color: var(--fill-color);\n",
              "    }\n",
              "    80% {\n",
              "      border-color: transparent;\n",
              "      border-right-color: var(--fill-color);\n",
              "      border-bottom-color: var(--fill-color);\n",
              "    }\n",
              "    90% {\n",
              "      border-color: transparent;\n",
              "      border-bottom-color: var(--fill-color);\n",
              "    }\n",
              "  }\n",
              "</style>\n",
              "\n",
              "  <script>\n",
              "    async function quickchart(key) {\n",
              "      const quickchartButtonEl =\n",
              "        document.querySelector('#' + key + ' button');\n",
              "      quickchartButtonEl.disabled = true;  // To prevent multiple clicks.\n",
              "      quickchartButtonEl.classList.add('colab-df-spinner');\n",
              "      try {\n",
              "        const charts = await google.colab.kernel.invokeFunction(\n",
              "            'suggestCharts', [key], {});\n",
              "      } catch (error) {\n",
              "        console.error('Error during call to suggestCharts:', error);\n",
              "      }\n",
              "      quickchartButtonEl.classList.remove('colab-df-spinner');\n",
              "      quickchartButtonEl.classList.add('colab-df-quickchart-complete');\n",
              "    }\n",
              "    (() => {\n",
              "      let quickchartButtonEl =\n",
              "        document.querySelector('#df-7b280e19-44c4-4308-b359-9e7af1e8f5aa button');\n",
              "      quickchartButtonEl.style.display =\n",
              "        google.colab.kernel.accessAllowed ? 'block' : 'none';\n",
              "    })();\n",
              "  </script>\n",
              "</div>\n",
              "    </div>\n",
              "  </div>\n"
            ],
            "application/vnd.google.colaboratory.intrinsic+json": {
              "type": "dataframe",
              "summary": "{\n  \"name\": \"history_df\",\n  \"rows\": 5,\n  \"fields\": [\n    {\n      \"column\": \"loss\",\n      \"properties\": {\n        \"dtype\": \"number\",\n        \"std\": 0.004827007354458872,\n        \"min\": 0.443,\n        \"max\": 0.455,\n        \"num_unique_values\": 5,\n        \"samples\": [\n          0.445,\n          0.446,\n          0.443\n        ],\n        \"semantic_type\": \"\",\n        \"description\": \"\"\n      }\n    },\n    {\n      \"column\": \"accuracy\",\n      \"properties\": {\n        \"dtype\": \"number\",\n        \"std\": 0.0023874672772626663,\n        \"min\": 0.84,\n        \"max\": 0.846,\n        \"num_unique_values\": 4,\n        \"samples\": [\n          0.843,\n          0.846,\n          0.84\n        ],\n        \"semantic_type\": \"\",\n        \"description\": \"\"\n      }\n    },\n    {\n      \"column\": \"val_loss\",\n      \"properties\": {\n        \"dtype\": \"number\",\n        \"std\": 0.004774934554525333,\n        \"min\": 0.449,\n        \"max\": 0.461,\n        \"num_unique_values\": 5,\n        \"samples\": [\n          0.449,\n          0.459,\n          0.455\n        ],\n        \"semantic_type\": \"\",\n        \"description\": \"\"\n      }\n    },\n    {\n      \"column\": \"val_accuracy\",\n      \"properties\": {\n        \"dtype\": \"number\",\n        \"std\": 0.0013038404810405309,\n        \"min\": 0.851,\n        \"max\": 0.854,\n        \"num_unique_values\": 3,\n        \"samples\": [\n          0.853,\n          0.854,\n          0.851\n        ],\n        \"semantic_type\": \"\",\n        \"description\": \"\"\n      }\n    }\n  ]\n}"
            }
          },
          "metadata": {},
          "execution_count": 12
        }
      ],
      "source": [
        "losses = history.history['loss']\n",
        "accs = history.history['accuracy']\n",
        "val_losses = history.history['val_loss']\n",
        "val_accs = history.history['val_accuracy']\n",
        "epochs = len(losses)\n",
        "history_df=pd.DataFrame(history_dict)\n",
        "history_df.tail().round(3)"
      ]
    },
    {
      "cell_type": "code",
      "execution_count": 13,
      "metadata": {
        "colab": {
          "base_uri": "https://localhost:8080/",
          "height": 773
        },
        "id": "W8TdNlsB6mih",
        "outputId": "00ba651b-ace8-44d9-f4f9-a0857d43961a"
      },
      "outputs": [
        {
          "output_type": "stream",
          "name": "stderr",
          "text": [
            "<ipython-input-4-5d42ceffaaab>:2: MatplotlibDeprecationWarning: Auto-removal of overlapping axes is deprecated since 3.6 and will be removed two minor releases later; explicitly call ax.remove() as needed.\n",
            "  ax = plt.subplot(subplot)\n"
          ]
        },
        {
          "output_type": "display_data",
          "data": {
            "text/plain": [
              "<Figure size 1600x1200 with 2 Axes>"
            ],
            "image/png": "[encoded data removed]"
          },
          "metadata": {}
        }
      ],
      "source": [
        "plt.subplots(figsize=(16,12))\n",
        "plt.tight_layout()\n",
        "display_training_curves(history_df['accuracy'], history_df['val_accuracy'], 'accuracy', 211)\n",
        "display_training_curves(history_df['loss'], history_df['val_loss'], 'loss', 212)"
      ]
    },
    {
      "cell_type": "code",
      "execution_count": 14,
      "metadata": {
        "colab": {
          "base_uri": "https://localhost:8080/"
        },
        "id": "GYsEw__46mih",
        "outputId": "b376807e-caee-4ecb-a113-e38a25782c0a"
      },
      "outputs": [
        {
          "output_type": "stream",
          "name": "stdout",
          "text": [
            "238/238 [==============================] - 1s 2ms/step\n"
          ]
        }
      ],
      "source": [
        "y_test = np.concatenate([y for x, y in int_test_ds], axis=0)\n",
        "pred_classes = np.argmax(model.predict(int_test_ds), axis=-1)"
      ]
    },
    {
      "cell_type": "code",
      "execution_count": 15,
      "metadata": {
        "colab": {
          "base_uri": "https://localhost:8080/"
        },
        "id": "lbX-z_896mii",
        "outputId": "f04ce2c6-c4b7-4ead-a4be-06c636300a5f"
      },
      "outputs": [
        {
          "output_type": "stream",
          "name": "stdout",
          "text": [
            "Classification Report\n",
            "              precision    recall  f1-score   support\n",
            "\n",
            "           0       0.87      0.85      0.86      1900\n",
            "           1       0.90      0.93      0.91      1900\n",
            "           2       0.84      0.78      0.81      1900\n",
            "           3       0.79      0.84      0.81      1900\n",
            "\n",
            "    accuracy                           0.85      7600\n",
            "   macro avg       0.85      0.85      0.85      7600\n",
            "weighted avg       0.85      0.85      0.85      7600\n",
            "\n",
            "Accuracy Score: 0.8481578947368421\n",
            "Root Mean Square Error: 0.6776507406590725\n"
          ]
        }
      ],
      "source": [
        "print_validation_report(y_test, pred_classes)"
      ]
    },
    {
      "cell_type": "code",
      "execution_count": 16,
      "metadata": {
        "scrolled": false,
        "colab": {
          "base_uri": "https://localhost:8080/",
          "height": 645
        },
        "id": "k041Are96mii",
        "outputId": "c72d6461-2906-4564-842d-2ef9eef81d65"
      },
      "outputs": [
        {
          "output_type": "display_data",
          "data": {
            "text/plain": [
              "<Figure size 1200x800 with 1 Axes>"
            ],
            "image/png": "[encoded data removed]"
          },
          "metadata": {}
        }
      ],
      "source": [
        "plot_confusion_matrix(y_test,pred_classes)"
      ]
    },
    {
      "cell_type": "code",
      "source": [
        "# Time Stamp\n",
        "current_time = datetime.datetime.now()\n",
        "formatted_time = current_time.strftime(\"%Y-%m-%d %H:%M:%S\")\n",
        "\n",
        "# Print the formatted time\n",
        "print(\"Last Run:\", formatted_time)"
      ],
      "metadata": {
        "id": "MqYEjzj3Zaqb",
        "outputId": "78c3eaaa-4ab4-4e2a-afdf-7019de9a39ea",
        "colab": {
          "base_uri": "https://localhost:8080/"
        }
      },
      "execution_count": 19,
      "outputs": [
        {
          "output_type": "stream",
          "name": "stdout",
          "text": [
            "Last Run: 2024-03-24 21:46:34\n"
          ]
        }
      ]
    }
  ],
  "metadata": {
    "accelerator": "GPU",
    "colab": {
      "machine_shape": "hm",
      "provenance": []
    },
    "kernelspec": {
      "display_name": "Python 3",
      "language": "python",
      "name": "python3"
    },
    "language_info": {
      "codemirror_mode": {
        "name": "ipython",
        "version": 3
      },
      "file_extension": ".py",
      "mimetype": "text/x-python",
      "name": "python",
      "nbconvert_exporter": "python",
      "pygments_lexer": "ipython3",
      "version": "3.8.10"
    }
  },
  "nbformat": 4,
  "nbformat_minor": 0
}